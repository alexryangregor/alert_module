{
 "cells": [
  {
   "cell_type": "code",
   "execution_count": null,
   "id": "60ea1766-37f5-417a-abfb-a61fa923dd75",
   "metadata": {},
   "outputs": [],
   "source": [
    "from urllib.parse import urlparse\n",
    "\n",
    "o = urlparse(\"https://github.com/2i2c-org/infrastructure/issues/1329\")\n",
    "o"
   ]
  },
  {
   "cell_type": "code",
   "execution_count": null,
   "id": "579e3d7b-7c1f-4150-b6fe-d59a79d9da03",
   "metadata": {},
   "outputs": [],
   "source": [
    "tutu = o.path.split(\"/\")\n",
    "tutu"
   ]
  },
  {
   "cell_type": "code",
   "execution_count": null,
   "id": "393477db-9cda-42ce-a2b9-0b73a48e29c9",
   "metadata": {},
   "outputs": [],
   "source": [
    "tutu[1]"
   ]
  },
  {
   "cell_type": "code",
   "execution_count": null,
   "id": "aa0e6fc6-bf22-4fec-bbfe-185582cfaed6",
   "metadata": {},
   "outputs": [],
   "source": [
    "tutu[2]"
   ]
  },
  {
   "cell_type": "code",
   "execution_count": null,
   "id": "08a83b43-7887-4292-8937-b97da3a4cd5f",
   "metadata": {},
   "outputs": [],
   "source": [
    "o = urlparse(\"https://github.com/2i2c-org\")\n",
    "o"
   ]
  },
  {
   "cell_type": "code",
   "execution_count": null,
   "id": "753a6ac8-98b7-414f-8360-9b3739811dbb",
   "metadata": {},
   "outputs": [],
   "source": [
    "o.path.split(\"/\")"
   ]
  },
  {
   "cell_type": "code",
   "execution_count": null,
   "id": "c91dc5a3-4bb9-408a-9372-60c5a661a7d4",
   "metadata": {},
   "outputs": [],
   "source": []
  }
 ],
 "metadata": {
  "kernelspec": {
   "display_name": "Python 3",
   "language": "python",
   "name": "python3"
  },
  "language_info": {
   "codemirror_mode": {
    "name": "ipython",
    "version": 3
   },
   "file_extension": ".py",
   "mimetype": "text/x-python",
   "name": "python",
   "nbconvert_exporter": "python",
   "pygments_lexer": "ipython3",
   "version": "3.8.10"
  }
 },
 "nbformat": 4,
 "nbformat_minor": 5
}
