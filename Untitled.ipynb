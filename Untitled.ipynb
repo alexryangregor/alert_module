{
 "cells": [
  {
   "cell_type": "code",
   "execution_count": 2,
   "id": "c91dc5a3-4bb9-408a-9372-60c5a661a7d4",
   "metadata": {},
   "outputs": [
    {
     "data": {
      "application/vnd.jupyter.widget-view+json": {
       "model_id": "a3be63f010c148b5a953c9517edacb87",
       "version_major": 2,
       "version_minor": 0
      },
      "text/plain": [
       "DatePicker(align_center=True, children=[Flex(children=[Menu(children=[DatePicker(no_title=True, scrollable=Tru…"
      ]
     },
     "metadata": {},
     "output_type": "display_data"
    }
   ],
   "source": [
    "from sepal_ui import sepalwidgets as sw\n",
    "\n",
    "dp = sw.DatePicker()\n",
    "dp"
   ]
  },
  {
   "cell_type": "code",
   "execution_count": 3,
   "id": "ed2ccdba",
   "metadata": {},
   "outputs": [
    {
     "data": {
      "text/plain": [
       "'2023-01-30'"
      ]
     },
     "execution_count": 3,
     "metadata": {},
     "output_type": "execute_result"
    }
   ],
   "source": [
    "dp.v_model"
   ]
  },
  {
   "cell_type": "code",
   "execution_count": null,
   "id": "eacc8534",
   "metadata": {},
   "outputs": [],
   "source": []
  }
 ],
 "metadata": {
  "kernelspec": {
   "display_name": "Python 3",
   "language": "python",
   "name": "python3"
  },
  "language_info": {
   "codemirror_mode": {
    "name": "ipython",
    "version": 3
   },
   "file_extension": ".py",
   "mimetype": "text/x-python",
   "name": "python",
   "nbconvert_exporter": "python",
   "pygments_lexer": "ipython3",
   "version": "3.8.3"
  },
  "vscode": {
   "interpreter": {
    "hash": "3a8723e76c97419226acc73879efcf4e97fe0647ebdba2efabf443849b0a40f0"
   }
  }
 },
 "nbformat": 4,
 "nbformat_minor": 5
}
