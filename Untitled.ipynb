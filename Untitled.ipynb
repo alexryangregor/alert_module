{
 "cells": [
  {
   "cell_type": "code",
   "execution_count": null,
   "id": "88ec98e7",
   "metadata": {},
   "outputs": [],
   "source": [
    "from datetime import datetime\n",
    "import pandas as pd\n",
    "import requests\n",
    "import json\n",
    "from itertools import product\n",
    "from math import floor, ceil\n",
    "import geopandas as gpd\n",
    "\n",
    "\n",
    "start = datetime.strptime(\"20230106\", \"%Y%m%d\")\n",
    "end = datetime.strptime(\"20230206\", \"%Y%m%d\")\n",
    "\n",
    "# get the geometry grid of 1°x1° tiles\n",
    "# minx, miny, maxx, maxy = aoi.total_bounds\n",
    "# minx, miny, maxx, maxy = (floor(minx), floor(miny), ceil(maxx), ceil(maxy))\n",
    "minx, miny, maxx, maxy = (102, 1, 103, 2)\n",
    "\n",
    "data = {\"type\": \"featurecollection\", \"features\": []}\n",
    "\n",
    "url = \"https://www.eorc.jaxa.jp/cgi-bin/jjfast/api/getlist.cgi?lat={}&lon={}&date={}\"\n",
    "\n",
    "# loop through every days\n",
    "for day in pd.date_range(start, end):\n",
    "\n",
    "    # loop through tiles\n",
    "    for x, y in product(range(minx, maxx), range(miny, maxy)):\n",
    "\n",
    "        # get the tile geojson link\n",
    "        req = requests.get(url.format(y + 0.5, x + 0.5, day.strftime(\"%Y%m%d\")))\n",
    "        try:\n",
    "            req_json = req.json()[\"data\"]\n",
    "        except:\n",
    "            continue\n",
    "        for tile in req_json:\n",
    "            filename = tile[\"file\"]\n",
    "            geojson = json.loads(requests.get(filename).text)\n",
    "\n",
    "            # get the alerts\n",
    "            for feat in geojson[\"features\"]:\n",
    "                feat[\"properties\"] = {\n",
    "                    \"nb_pixel\": 0,\n",
    "                    \"label\": feat[\"properties\"][\"Polygon_id\"],\n",
    "                    \"alert\": feat[\"properties\"][\"Accuracy\"],\n",
    "                    \"date\": int(day.strftime(\"%j\")) / 1000 + day.year,\n",
    "                }\n",
    "\n",
    "                # add them to the geojson with correct alerts dates\n",
    "                data[\"features\"].append(feat)\n",
    "\n",
    "gdf = gpd.read_file(json.dumps(data), driver=\"GeoJSON\")"
   ]
  },
  {
   "cell_type": "code",
   "execution_count": null,
   "id": "61d6a019",
   "metadata": {},
   "outputs": [],
   "source": []
  }
 ],
 "metadata": {
  "kernelspec": {
   "display_name": "Python 3",
   "language": "python",
   "name": "python3"
  },
  "language_info": {
   "codemirror_mode": {
    "name": "ipython",
    "version": 3
   },
   "file_extension": ".py",
   "mimetype": "text/x-python",
   "name": "python",
   "nbconvert_exporter": "python",
   "pygments_lexer": "ipython3",
   "version": "3.8.3"
  },
  "vscode": {
   "interpreter": {
    "hash": "3a8723e76c97419226acc73879efcf4e97fe0647ebdba2efabf443849b0a40f0"
   }
  }
 },
 "nbformat": 4,
 "nbformat_minor": 5
}
