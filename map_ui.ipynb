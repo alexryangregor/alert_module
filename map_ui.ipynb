{
 "cells": [
  {
   "cell_type": "code",
   "execution_count": null,
   "id": "7c554a5e-e324-48cd-bfae-652d6ebc6f9b",
   "metadata": {},
   "outputs": [],
   "source": [
    "from component import tile"
   ]
  },
  {
   "cell_type": "code",
   "execution_count": null,
   "id": "a6760fb8-8973-43d6-891e-c2499df1d96c",
   "metadata": {},
   "outputs": [],
   "source": [
    "map_tile = tile.MapTile()"
   ]
  },
  {
   "cell_type": "code",
   "execution_count": null,
   "id": "6196080a-f6e7-4f86-a94b-f81cf3b45ffe",
   "metadata": {},
   "outputs": [],
   "source": [
    "map_tile"
   ]
  },
  {
   "cell_type": "code",
   "execution_count": null,
   "id": "d2c201a3-cb8d-4683-9d97-31a780b889be",
   "metadata": {},
   "outputs": [],
   "source": []
  }
 ],
 "metadata": {
  "kernelspec": {
   "display_name": "Python 3",
   "language": "python",
   "name": "python3"
  },
  "language_info": {
   "codemirror_mode": {
    "name": "ipython",
    "version": 3
   },
   "file_extension": ".py",
   "mimetype": "text/x-python",
   "name": "python",
   "nbconvert_exporter": "python",
   "pygments_lexer": "ipython3",
   "version": "3.8.10"
  }
 },
 "nbformat": 4,
 "nbformat_minor": 5
}
