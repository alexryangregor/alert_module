{
 "cells": [
  {
   "cell_type": "code",
   "execution_count": null,
   "id": "23da81e1-8abb-4f7a-b4fe-c0f6effd37cb",
   "metadata": {},
   "outputs": [],
   "source": [
    "from component.scripts.utils import to_date\n",
    "\n",
    "import ee\n",
    "\n",
    "ee.Initialize()\n",
    "\n",
    "test = to_date(ee.Image(1196))\n",
    "(\n",
    "    test.reduceRegion(ee.Reducer.first(), ee.Geometry.Point([0, 0]), 1)\n",
    "    .values()\n",
    "    .getNumber(0)\n",
    ").getInfo()"
   ]
  },
  {
   "cell_type": "code",
   "execution_count": null,
   "id": "44fd7cfa-4906-4096-9be2-2e21513ab1d2",
   "metadata": {},
   "outputs": [],
   "source": []
  }
 ],
 "metadata": {
  "kernelspec": {
   "display_name": "Python 3",
   "language": "python",
   "name": "python3"
  },
  "language_info": {
   "codemirror_mode": {
    "name": "ipython",
    "version": 3
   },
   "file_extension": ".py",
   "mimetype": "text/x-python",
   "name": "python",
   "nbconvert_exporter": "python",
   "pygments_lexer": "ipython3",
   "version": "3.8.10"
  }
 },
 "nbformat": 4,
 "nbformat_minor": 5
}
