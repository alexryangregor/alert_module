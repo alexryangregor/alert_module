{
 "cells": [
  {
   "cell_type": "code",
   "execution_count": null,
   "id": "2003523e-20e0-4715-84cc-7e93ada15e09",
   "metadata": {},
   "outputs": [],
   "source": [
    "# create a map to display everything\n",
    "from sepal_ui import mapping\n",
    "\n",
    "Map = mapping.SepalMap()"
   ]
  },
  {
   "cell_type": "code",
   "execution_count": null,
   "id": "cb8de2e0-d114-4126-ba3c-f5db87cea2db",
   "metadata": {},
   "outputs": [],
   "source": [
    "# create the model for testing purposes\n",
    "from component import model\n",
    "from datetime import datetime\n",
    "\n",
    "alert_model = model.AlertModel()\n",
    "alert_model.alert_type = \"RECENT\"\n",
    "alert_model.alert_collection = \"NRT\"\n",
    "alert_model.start = datetime.strptime(\"2022-01-01\", \"%Y-%m-%d\")\n",
    "alert_model.end = datetime.strptime(\"2022-12-31\", \"%Y-%m-%d\")\n",
    "alert_model.min_size = 0\n",
    "alert_model.asset = \"users/wiell/change-alert-cambodia\""
   ]
  },
  {
   "cell_type": "code",
   "execution_count": null,
   "id": "17d4e06d-8b2d-419c-ba38-8a5c620c6886",
   "metadata": {},
   "outputs": [],
   "source": [
    "# create the aoi_model\n",
    "from sepal_ui import aoi\n",
    "from sepal_ui import color as sc\n",
    "from sepal_ui import sepalwidgets as sw\n",
    "import ee\n",
    "\n",
    "ee.Initialize()\n",
    "\n",
    "aoi_model = aoi.AoiModel(\n",
    "    asset=\"users/bornToBeAlive/cambodia_alert_aoi\", alert=sw.Alert()\n",
    ")\n",
    "Map.zoom_ee_object(aoi_model.feature_collection.geometry())\n",
    "empty = ee.Image().byte()\n",
    "outline = empty.paint(featureCollection=aoi_model.feature_collection, color=1, width=4)\n",
    "Map.addLayer(outline, {\"palette\": sc.primary}, \"aoi\")"
   ]
  },
  {
   "cell_type": "code",
   "execution_count": null,
   "id": "9ddf435b-07db-4994-8913-1053495f1937",
   "metadata": {},
   "outputs": [],
   "source": [
    "# generate the grid\n",
    "from component import scripts as cs\n",
    "from ipyleaflet import GeoJSON\n",
    "import json\n",
    "\n",
    "x = 74\n",
    "grid = cs.set_grid(aoi_model.gdf)\n",
    "data = json.loads(grid[grid.index.isin([x])].to_json())\n",
    "style = {\"stroke\": True, \"color\": \"grey\", \"weight\": 2, \"opacity\": 1, \"fill\": False}\n",
    "ipygeojson = GeoJSON(data=data, style=style, name=\"grid\")\n",
    "Map.add_layer(ipygeojson)\n",
    "\n",
    "len(grid)"
   ]
  },
  {
   "cell_type": "code",
   "execution_count": null,
   "id": "d7c1d0ec-5232-41b0-b119-6fb772e5124d",
   "metadata": {},
   "outputs": [],
   "source": [
    "# display all alerts\n",
    "a = alert_model\n",
    "geom = ee.FeatureCollection(data)\n",
    "alerts = cs.get_alerts(a.alert_collection, a.start, a.end, geom, a.asset)\n",
    "Map.addLayer(\n",
    "    alerts.select(\"alert\").clip(geom),\n",
    "    {\"min\": 1, \"max\": 2, \"palette\": [\"red\", \"yellow\"]},\n",
    "    \"alerts\",\n",
    ")\n",
    "Map.zoom_ee_object(geom.geometry());"
   ]
  },
  {
   "cell_type": "code",
   "execution_count": null,
   "id": "ceb2b1f8-7e38-4058-a58b-6a65bb93b308",
   "metadata": {},
   "outputs": [],
   "source": [
    "# extract eh alerts\n",
    "import geopandas as gpd\n",
    "\n",
    "alert_clump = cs.get_alerts_clump(alerts=alerts, aoi=geom)\n",
    "json = alert_clump.getInfo()\n",
    "gdf = gpd.GeoDataFrame.from_features(json)\n",
    "style = {\"stroke\": True, \"color\": \"BLUE\", \"weight\": 2, \"opacity\": 1, \"fill\": True}\n",
    "ipygeojson = GeoJSON(data=json, style=style, name=\"alerts\")\n",
    "Map.add_layer(ipygeojson);"
   ]
  },
  {
   "cell_type": "code",
   "execution_count": null,
   "id": "1e7d8b89-f1b7-4140-87d1-f5a75a73773b",
   "metadata": {},
   "outputs": [],
   "source": [
    "Map"
   ]
  },
  {
   "cell_type": "code",
   "execution_count": null,
   "id": "9c47fc84-c8c1-4727-aa10-f4515a0191aa",
   "metadata": {},
   "outputs": [],
   "source": [
    "from datetime import datetime, timedelta\n",
    "\n",
    "start = datetime.strptime(\"2018-12-31\", \"%Y-%m-%d\")\n",
    "delta = timedelta(days=1183)\n",
    "\n",
    "finish = start + delta"
   ]
  },
  {
   "cell_type": "code",
   "execution_count": null,
   "id": "d4cb8f62-997d-462c-a405-8a5ad45ea289",
   "metadata": {},
   "outputs": [],
   "source": [
    "type((finish - start).days)"
   ]
  },
  {
   "cell_type": "code",
   "execution_count": null,
   "id": "a5628bcd-0101-4210-b087-0121d5481acd",
   "metadata": {},
   "outputs": [],
   "source": []
  }
 ],
 "metadata": {
  "kernelspec": {
   "display_name": "Python 3",
   "language": "python",
   "name": "python3"
  },
  "language_info": {
   "codemirror_mode": {
    "name": "ipython",
    "version": 3
   },
   "file_extension": ".py",
   "mimetype": "text/x-python",
   "name": "python",
   "nbconvert_exporter": "python",
   "pygments_lexer": "ipython3",
   "version": "3.8.10"
  }
 },
 "nbformat": 4,
 "nbformat_minor": 5
}
