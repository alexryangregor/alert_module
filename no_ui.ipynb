{
 "cells": [
  {
   "cell_type": "code",
   "execution_count": null,
   "id": "7369ce41-b4f0-4060-aa88-8732c719ff86",
   "metadata": {},
   "outputs": [],
   "source": [
    "%load_ext autoreload\n",
    "%autoreload 2"
   ]
  },
  {
   "cell_type": "code",
   "execution_count": null,
   "id": "dbc50593-7b08-488d-b082-9204c1cd3760",
   "metadata": {},
   "outputs": [],
   "source": [
    "from component import tile"
   ]
  },
  {
   "cell_type": "code",
   "execution_count": null,
   "id": "0703f358-84d7-4a69-b818-787cd1c68363",
   "metadata": {
    "scrolled": true
   },
   "outputs": [],
   "source": [
    "tile.MapTile()"
   ]
  }
 ],
 "metadata": {
  "kernelspec": {
   "display_name": "(test) test-alert_module",
   "language": "python",
   "name": "test-alert_module"
  },
  "language_info": {
   "codemirror_mode": {
    "name": "ipython",
    "version": 3
   },
   "file_extension": ".py",
   "mimetype": "text/x-python",
   "name": "python",
   "nbconvert_exporter": "python",
   "pygments_lexer": "ipython3",
   "version": "3.10.12"
  },
  "vscode": {
   "interpreter": {
    "hash": "3a8723e76c97419226acc73879efcf4e97fe0647ebdba2efabf443849b0a40f0"
   }
  }
 },
 "nbformat": 4,
 "nbformat_minor": 5
}
