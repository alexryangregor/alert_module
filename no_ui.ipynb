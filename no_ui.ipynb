{
 "cells": [
  {
   "cell_type": "code",
   "execution_count": 1,
   "id": "0e6dfa67-a1b9-4b79-b9e5-c5e402f39766",
   "metadata": {},
   "outputs": [
    {
     "data": {
      "application/vnd.jupyter.widget-view+json": {
       "model_id": "b1c351aff48c451b8030b90fd0ca02a1",
       "version_major": 2,
       "version_minor": 0
      },
      "text/plain": [
       "Styles()"
      ]
     },
     "metadata": {},
     "output_type": "display_data"
    },
    {
     "data": {
      "application/vnd.jupyter.widget-view+json": {
       "model_id": "c5546509847d4e1cbee6709c71966a02",
       "version_major": 2,
       "version_minor": 0
      },
      "text/plain": [
       "ResizeTrigger()"
      ]
     },
     "metadata": {},
     "output_type": "display_data"
    },
    {
     "data": {
      "application/vnd.jupyter.widget-view+json": {
       "model_id": "5a9629611b2045a3a578ed15a108ad65",
       "version_major": 2,
       "version_minor": 0
      },
      "text/plain": [
       "VuetifyTemplate(template='<script>{methods: {jupyter_embed(){// set a selected map to embed mode (i.e. default…"
      ]
     },
     "metadata": {},
     "output_type": "display_data"
    },
    {
     "data": {
      "application/javascript": "// set a selected map to fullscreen\nvar i = 0;\nconst wait_unitl_element_appear = setInterval(() => {\n  var element = document.querySelector(\".adizia .leaflet-container\");\n  if (element != null) {\n    element.style.position = \"fixed\";\n    element.style.width = \"100vw\";\n    element.style.height = \"calc(100vh - 48px)\";\n    element.style.zIndex = 800;\n    element.style.bottom = 0;\n    element.style.left = 0;\n    window.dispatchEvent(new Event(\"resize\"));\n    clearInterval(wait_unitl_element_appear);\n  } else if (i > 50) {\n    clearInterval(wait_unitl_element_appear);\n    console.log(\"cannot find the map element\");\n  } else {\n    i++;\n  }\n}, 100);\n",
      "text/plain": [
       "<IPython.core.display.Javascript object>"
      ]
     },
     "metadata": {},
     "output_type": "display_data"
    }
   ],
   "source": [
    "# add the tiles\n",
    "%run \"map_ui.ipynb\""
   ]
  },
  {
   "cell_type": "code",
   "execution_count": 2,
   "id": "462d7a98-4b2c-4514-bb3c-f1d92b13b32c",
   "metadata": {},
   "outputs": [
    {
     "data": {
      "application/vnd.jupyter.widget-view+json": {
       "model_id": "ce4e1e562cc2489582e8e703e7ec8d6a",
       "version_major": 2,
       "version_minor": 0
      },
      "text/plain": [
       "MapTile(align_center=True, children=[Card(children=[Html(children=[''], tag='h2'), Flex(children=[AlertMap(cen…"
      ]
     },
     "metadata": {},
     "output_type": "display_data"
    }
   ],
   "source": [
    "map_tile.map.w_fullscreen.toggle_fullscreen(None, None, None)\n",
    "map_tile"
   ]
  }
 ],
 "metadata": {
  "kernelspec": {
   "display_name": "Python 3",
   "language": "python",
   "name": "python3"
  },
  "language_info": {
   "codemirror_mode": {
    "name": "ipython",
    "version": 3
   },
   "file_extension": ".py",
   "mimetype": "text/x-python",
   "name": "python",
   "nbconvert_exporter": "python",
   "pygments_lexer": "ipython3",
   "version": "3.8.3 (default, Oct 14 2020, 12:53:46) \n[Clang 11.0.3 (clang-1103.0.32.29)]"
  },
  "vscode": {
   "interpreter": {
    "hash": "3a8723e76c97419226acc73879efcf4e97fe0647ebdba2efabf443849b0a40f0"
   }
  }
 },
 "nbformat": 4,
 "nbformat_minor": 5
}
