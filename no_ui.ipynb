{
 "cells": [
  {
   "cell_type": "code",
   "execution_count": null,
   "id": "0e6dfa67-a1b9-4b79-b9e5-c5e402f39766",
   "metadata": {},
   "outputs": [],
   "source": [
    "# add the tiles\n",
    "%run \"map_ui.ipynb\""
   ]
  },
  {
   "cell_type": "code",
   "execution_count": null,
   "id": "2244d68a-ee1c-4fae-bcbc-b286a2682a3d",
   "metadata": {},
   "outputs": [],
   "source": [
    "map_tile.aoi_control.view.w_method.v_model = \"ASSET\"\n",
    "map_tile.aoi_control.view.w_asset.v_model = {\n",
    "    \"pathname\": \"projects/ee-africagis-vietnam/assets/vietnam_planet_AOI\",\n",
    "    \"column\": \"ALL\",\n",
    "    \"value\": None,\n",
    "}\n",
    "map_tile.aoi_control.view._update_aoi(None, None, None)"
   ]
  },
  {
   "cell_type": "code",
   "execution_count": null,
   "id": "21daa0bd-7ae6-44be-bea2-43f4f9b20f54",
   "metadata": {},
   "outputs": [],
   "source": [
    "map_tile.alert_control.view.w_alert.v_model = \"GLAD-L\"\n",
    "map_tile.alert_control.view.w_alert_type.v_model = \"HISTORICAL\"\n",
    "map_tile.alert_control.view.w_historic.w_start.v_model = \"2020-01-01\"\n",
    "map_tile.alert_control.view.w_historic.w_end.v_model = \"2020-12-31\"\n",
    "map_tile.alert_control.view.load_alerts(None, None, None);"
   ]
  },
  {
   "cell_type": "code",
   "execution_count": null,
   "id": "462d7a98-4b2c-4514-bb3c-f1d92b13b32c",
   "metadata": {},
   "outputs": [],
   "source": [
    "map_tile.map.w_fullscreen.toggle_fullscreen(None, None, None)\n",
    "map_tile"
   ]
  },
  {
   "cell_type": "code",
   "execution_count": null,
   "id": "eaedfe21-98b5-4e31-b40d-cd3fc22c7e35",
   "metadata": {},
   "outputs": [],
   "source": []
  }
 ],
 "metadata": {
  "kernelspec": {
   "display_name": "Python 3",
   "language": "python",
   "name": "python3"
  },
  "language_info": {
   "codemirror_mode": {
    "name": "ipython",
    "version": 3
   },
   "file_extension": ".py",
   "mimetype": "text/x-python",
   "name": "python",
   "nbconvert_exporter": "python",
   "pygments_lexer": "ipython3",
   "version": "3.8.10"
  }
 },
 "nbformat": 4,
 "nbformat_minor": 5
}
