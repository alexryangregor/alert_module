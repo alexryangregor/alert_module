{
 "cells": [
  {
   "cell_type": "code",
   "execution_count": null,
   "metadata": {},
   "outputs": [],
   "source": [
    "# add all the tiles\n",
    "%run 'map_ui.ipynb'"
   ]
  },
  {
   "cell_type": "code",
   "execution_count": null,
   "metadata": {},
   "outputs": [],
   "source": [
    "map_tile"
   ]
  },
  {
   "cell_type": "code",
   "execution_count": null,
   "metadata": {},
   "outputs": [],
   "source": [
    "# Stockton, CA bounding box (created via geojson.io)\n",
    "geojson_geometry = {\n",
    "    \"type\": \"Polygon\",\n",
    "    \"coordinates\": [\n",
    "        [\n",
    "            [11.43672466278076, -0.23161348204662557],\n",
    "            [11.43672466278076, -0.23161348204662557],\n",
    "            [11.43672466278076, -0.23161348204662557],\n",
    "            [11.43672466278076, -0.23161348204662557],\n",
    "        ]\n",
    "    ],\n",
    "}\n",
    "\n",
    "# get images that overlap with our AOI\n",
    "geometry_filter = {\n",
    "    \"type\": \"GeometryFilter\",\n",
    "    \"field_name\": \"geometry\",\n",
    "    \"config\": geojson_geometry,\n",
    "}\n",
    "\n",
    "# get images acquired within a date range\n",
    "date_range_filter = {\n",
    "    \"type\": \"DateRangeFilter\",\n",
    "    \"field_name\": \"acquired\",\n",
    "    \"config\": {\"gte\": \"2016-08-31T00:00:00.000Z\", \"lte\": \"2016-09-01T00:00:00.000Z\"},\n",
    "}\n",
    "\n",
    "# only get images which have <50% cloud coverage\n",
    "cloud_cover_filter = {\n",
    "    \"type\": \"RangeFilter\",\n",
    "    \"field_name\": \"cloud_cover\",\n",
    "    \"config\": {\"lte\": 0.5},\n",
    "}\n",
    "\n",
    "# combine our geo, date, cloud filters\n",
    "combined_filter = {\n",
    "    \"type\": \"AndFilter\",\n",
    "    \"config\": [\n",
    "        geometry_filter,\n",
    "        # date_range_filter,\n",
    "        # cloud_cover_filter\n",
    "    ],\n",
    "}\n",
    "\n",
    "import os\n",
    "import json\n",
    "import requests\n",
    "from requests.auth import HTTPBasicAuth\n",
    "\n",
    "# API Key stored as an env variable\n",
    "PLANET_API_KEY = \"PLAKccb460472d7e4319938d0a3466e880c5\"\n",
    "\n",
    "item_type = \"PSScene\"\n",
    "\n",
    "# API request object\n",
    "search_request = {\n",
    "    # \"interval\": \"day\",\n",
    "    \"item_types\": [item_type],\n",
    "    \"filter\": combined_filter,\n",
    "}\n",
    "\n",
    "# fire off the POST request\n",
    "search_result = requests.post(\n",
    "    \"https://api.planet.com/data/v1/quick-search\",\n",
    "    auth=HTTPBasicAuth(PLANET_API_KEY, \"\"),\n",
    "    json=search_request,\n",
    ")\n",
    "\n",
    "print(json.dumps(search_result.json(), indent=1))\n",
    "\n",
    "image_ids = [feature[\"id\"] for feature in search_result.json()[\"features\"]]\n",
    "print(image_ids)"
   ]
  },
  {
   "cell_type": "code",
   "execution_count": null,
   "metadata": {},
   "outputs": [],
   "source": []
  }
 ],
 "metadata": {
  "kernelspec": {
   "display_name": "Python 3",
   "language": "python",
   "name": "python3"
  },
  "language_info": {
   "codemirror_mode": {
    "name": "ipython",
    "version": 3
   },
   "file_extension": ".py",
   "mimetype": "text/x-python",
   "name": "python",
   "nbconvert_exporter": "python",
   "pygments_lexer": "ipython3",
   "version": "3.8.10"
  }
 },
 "nbformat": 4,
 "nbformat_minor": 4
}
