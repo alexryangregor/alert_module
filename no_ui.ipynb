{
 "cells": [
  {
   "cell_type": "code",
   "execution_count": null,
   "id": "0e6dfa67-a1b9-4b79-b9e5-c5e402f39766",
   "metadata": {},
   "outputs": [],
   "source": [
    "# add the tiles\n",
    "%run \"map_ui.ipynb\""
   ]
  },
  {
   "cell_type": "code",
   "execution_count": null,
   "id": "462d7a98-4b2c-4514-bb3c-f1d92b13b32c",
   "metadata": {},
   "outputs": [],
   "source": [
    "map_tile.map.w_fullscreen.toggle_fullscreen(None, None, None)\n",
    "map_tile"
   ]
  },
  {
   "cell_type": "code",
   "execution_count": null,
   "id": "eaedfe21-98b5-4e31-b40d-cd3fc22c7e35",
   "metadata": {},
   "outputs": [],
   "source": [
    "from sepal_ui import planetapi as sp"
   ]
  },
  {
   "cell_type": "code",
   "execution_count": null,
   "id": "4971e054-8291-4c66-9de0-470902cfab6b",
   "metadata": {},
   "outputs": [],
   "source": [
    "import sepal_ui\n",
    "\n",
    "sepal_ui.__version__"
   ]
  },
  {
   "cell_type": "code",
   "execution_count": null,
   "id": "c6c26ee3-a68d-43eb-a7dc-f25930fb0edd",
   "metadata": {},
   "outputs": [],
   "source": [
    "import planet\n",
    "\n",
    "planet.__version__"
   ]
  },
  {
   "cell_type": "code",
   "execution_count": null,
   "id": "418f5ceb-c08e-4ae5-ad43-534ff8caab12",
   "metadata": {},
   "outputs": [],
   "source": [
    "import sys\n",
    "\n",
    "sys.modules[\"sepal_ui\"]"
   ]
  },
  {
   "cell_type": "code",
   "execution_count": null,
   "id": "1bc5ed01-7ccb-4c61-a9a2-b69f7fca83f0",
   "metadata": {},
   "outputs": [],
   "source": [
    "import sys\n",
    "\n",
    "sys.modules[\"commitizen\"]"
   ]
  },
  {
   "cell_type": "code",
   "execution_count": null,
   "id": "fc29a55e-1e16-43f2-9bd7-97e5b45c00f0",
   "metadata": {},
   "outputs": [],
   "source": [
    "import sys\n",
    "\n",
    "sys.modules[\"pygadm\"]"
   ]
  },
  {
   "cell_type": "code",
   "execution_count": null,
   "id": "434aa81f-9a12-4bb8-9945-6e7d74fe8aea",
   "metadata": {},
   "outputs": [],
   "source": [
    "import pygadm"
   ]
  },
  {
   "cell_type": "code",
   "execution_count": null,
   "id": "b54b9e6a-9a1d-4e53-8bef-2c6869afda1b",
   "metadata": {},
   "outputs": [],
   "source": [
    "import sepal_ui"
   ]
  },
  {
   "cell_type": "code",
   "execution_count": null,
   "id": "1cf45f70-742a-43bc-aca7-37e3e0667e56",
   "metadata": {},
   "outputs": [],
   "source": [
    "import numexpr\n",
    "\n",
    "numexpr.__version__"
   ]
  },
  {
   "cell_type": "code",
   "execution_count": null,
   "id": "37ac5148-8601-4399-b698-79603b9b67fb",
   "metadata": {},
   "outputs": [],
   "source": []
  }
 ],
 "metadata": {
  "kernelspec": {
   "display_name": "Python 3",
   "language": "python",
   "name": "python3"
  },
  "language_info": {
   "codemirror_mode": {
    "name": "ipython",
    "version": 3
   },
   "file_extension": ".py",
   "mimetype": "text/x-python",
   "name": "python",
   "nbconvert_exporter": "python",
   "pygments_lexer": "ipython3",
   "version": "3.8.10"
  }
 },
 "nbformat": 4,
 "nbformat_minor": 5
}
