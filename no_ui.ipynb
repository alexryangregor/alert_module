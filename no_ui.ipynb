{
 "cells": [
  {
   "cell_type": "code",
   "execution_count": null,
   "id": "0e6dfa67-a1b9-4b79-b9e5-c5e402f39766",
   "metadata": {},
   "outputs": [],
   "source": [
    "# add the tiles\n",
    "%run \"map_ui.ipynb\""
   ]
  },
  {
   "cell_type": "code",
   "execution_count": null,
   "id": "ffd43081-48db-491e-b17b-7355f4740a7f",
   "metadata": {},
   "outputs": [],
   "source": [
    "map_tile"
   ]
  },
  {
   "cell_type": "code",
   "execution_count": null,
   "id": "4e758a67-6eff-4029-baf7-b93bdffcbdb6",
   "metadata": {
    "tags": []
   },
   "outputs": [],
   "source": [
    "map_tile.map.w_fullscreen.toggle_fullscreen(None, None, None)"
   ]
  },
  {
   "cell_type": "code",
   "execution_count": null,
   "id": "2b214ad8-932e-47ae-9596-9bed8a8da33e",
   "metadata": {},
   "outputs": [],
   "source": []
  }
 ],
 "metadata": {
  "kernelspec": {
   "display_name": "Python 3",
   "language": "python",
   "name": "python3"
  },
  "language_info": {
   "codemirror_mode": {
    "name": "ipython",
    "version": 3
   },
   "file_extension": ".py",
   "mimetype": "text/x-python",
   "name": "python",
   "nbconvert_exporter": "python",
   "pygments_lexer": "ipython3",
   "version": "3.8.10"
  },
  "vscode": {
   "interpreter": {
    "hash": "3a8723e76c97419226acc73879efcf4e97fe0647ebdba2efabf443849b0a40f0"
   }
  }
 },
 "nbformat": 4,
 "nbformat_minor": 5
}
