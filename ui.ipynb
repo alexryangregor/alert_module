{
 "cells": [
  {
   "cell_type": "code",
   "execution_count": null,
   "metadata": {},
   "outputs": [],
   "source": [
    "from sepal_ui import sepalwidgets as sw"
   ]
  },
  {
   "cell_type": "code",
   "execution_count": null,
   "metadata": {},
   "outputs": [],
   "source": [
    "# create an appBar\n",
    "ma_appBar = sw.AppBar(\"Alert module\")"
   ]
  },
  {
   "cell_type": "code",
   "execution_count": null,
   "metadata": {},
   "outputs": [],
   "source": [
    "# add tiles\n",
    "%run 'aoi_selector_ui.ipynb'\n",
    "%run 'import_alerts_ui.ipynb'\n",
    "%run 'sepal_process_ui.ipynb'\n",
    "%run 'about_ui.ipynb'\n",
    "\n",
    "ma_content = [ma_aoi, ma_alert_driver, ma_sepal, ma_results, ma_about, ma_disclaimer]"
   ]
  },
  {
   "cell_type": "code",
   "execution_count": null,
   "metadata": {},
   "outputs": [],
   "source": [
    "# create a drawer\n",
    "items = [\n",
    "    sw.DrawerItem(\"AOI selection\", \"mdi-map-marker-check\", card=\"aoi_tile\"),\n",
    "    sw.DrawerItem(\"Retrieve alerts\", \"mdi-cogs\", card=\"driver_tile\"),\n",
    "    sw.DrawerItem(\"Postprocess\", \"mdi-export\", card=\"sepal_tile\"),\n",
    "    sw.DrawerItem(\"Results\", \"mdi-chart-bar\", card=\"result_tile\"),\n",
    "    sw.DrawerItem(\"About\", \"mdi-help-circle\", card=\"about_tile\"),\n",
    "]\n",
    "\n",
    "code_link = \"https://github.com/openforis/alert_module\"\n",
    "wiki_link = \"https://raw.githubusercontent.com/openforis/alert_module/master/doc/en.rst\"\n",
    "issue_link = \"https://github.com/openforis/alert_module/issues/new/choose\"\n",
    "\n",
    "ma_drawer = sw.NavDrawer(items, code=code_link, wiki=wiki_link, issue=issue_link)"
   ]
  },
  {
   "cell_type": "code",
   "execution_count": null,
   "metadata": {},
   "outputs": [],
   "source": [
    "# build the app\n",
    "ma_app = sw.App(tiles=ma_content, appBar=ma_appBar, navDrawer=ma_drawer).show_tile(\n",
    "    \"aoi_tile\"\n",
    ")"
   ]
  },
  {
   "cell_type": "code",
   "execution_count": null,
   "metadata": {},
   "outputs": [],
   "source": [
    "# display the app\n",
    "ma_app"
   ]
  }
 ],
 "metadata": {
  "kernelspec": {
   "display_name": "Python 3",
   "language": "python",
   "name": "python3"
  },
  "language_info": {
   "codemirror_mode": {
    "name": "ipython",
    "version": 3
   },
   "file_extension": ".py",
   "mimetype": "text/x-python",
   "name": "python",
   "nbconvert_exporter": "python",
   "pygments_lexer": "ipython3",
   "version": "3.6.9"
  }
 },
 "nbformat": 4,
 "nbformat_minor": 4
}
