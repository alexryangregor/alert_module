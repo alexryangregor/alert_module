{
 "cells": [
  {
   "cell_type": "code",
   "execution_count": null,
   "id": "46edc255-d8e0-4ee8-a6ca-ada55c2dde56",
   "metadata": {},
   "outputs": [],
   "source": [
    "from sepal_ui import sepalwidgets as sw"
   ]
  },
  {
   "cell_type": "code",
   "execution_count": null,
   "id": "9b0d17d0-951d-44e3-a9bb-d4b9850c4509",
   "metadata": {},
   "outputs": [],
   "source": [
    "# create the app bar\n",
    "app_bar = sw.AppBar(\"Alert module\")"
   ]
  },
  {
   "cell_type": "code",
   "execution_count": null,
   "id": "a55f86ef-0968-4511-bdf6-882d64558b26",
   "metadata": {},
   "outputs": [],
   "source": [
    "# add the tiles\n",
    "%run \"map_ui.ipynb\"\n",
    "%run \"about_ui.ipynb\"\n",
    "\n",
    "content = [map_tile, about_tile, disclaimer_tile]"
   ]
  },
  {
   "cell_type": "code",
   "execution_count": null,
   "id": "b9284a07-9c62-4d3c-962b-c59b22f2fbe0",
   "metadata": {},
   "outputs": [],
   "source": [
    "# create the drawer\n",
    "items = [\n",
    "    sw.DrawerItem(\"Map tile\", \"fas fa-map\", card=\"map_tile\"),\n",
    "    sw.DrawerItem(\"About\", \"fas fa-question\", card=\"about_tile\"),\n",
    "]\n",
    "\n",
    "code_link = \"https://github.com/openforis/alert_module\"\n",
    "wiki_link = \"https://raw.githubusercontent.com/openforis/alert_module/master/doc/en.rst\"\n",
    "issue_link = \"https://github.com/openforis/alert_module/issues/new/choose\"\n",
    "\n",
    "drawer = sw.NavDrawer(\n",
    "    items,\n",
    "    code=code_link,\n",
    "    wiki=wiki_link,\n",
    "    issue=issue_link,\n",
    "    mini_variant=True,\n",
    ")"
   ]
  },
  {
   "cell_type": "code",
   "execution_count": null,
   "id": "effff0d8-fd12-45bd-a594-4e2c117caf2a",
   "metadata": {},
   "outputs": [],
   "source": [
    "# build the app\n",
    "app = sw.App(\n",
    "    tiles=content,\n",
    "    appBar=app_bar,\n",
    "    navDrawer=drawer,\n",
    ").show_tile(\"map_tile\")"
   ]
  },
  {
   "cell_type": "code",
   "execution_count": null,
   "id": "87fa20b1-65cd-42ab-b25c-0babaed13104",
   "metadata": {},
   "outputs": [],
   "source": [
    "# display the app\n",
    "app"
   ]
  }
 ],
 "metadata": {
  "kernelspec": {
   "display_name": " (venv) Deforestation alert analysis",
   "language": "python",
   "name": "venv-alert_module"
  },
  "language_info": {
   "codemirror_mode": {
    "name": "ipython",
    "version": 3
   },
   "file_extension": ".py",
   "mimetype": "text/x-python",
   "name": "python",
   "nbconvert_exporter": "python",
   "pygments_lexer": "ipython3",
   "version": "3.8.10"
  },
  "voila": {
   "theme": "dark"
  }
 },
 "nbformat": 4,
 "nbformat_minor": 5
}
