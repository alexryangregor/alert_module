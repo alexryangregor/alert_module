{
 "cells": [
  {
   "cell_type": "code",
   "execution_count": null,
   "id": "a3fa33e8-f638-48bf-b4fa-f4ee8740e60b",
   "metadata": {},
   "outputs": [],
   "source": [
    "from sepal_ui import planetapi as sp\n",
    "\n",
    "toto = sp.PlanetView()"
   ]
  },
  {
   "cell_type": "code",
   "execution_count": null,
   "id": "2ae1a801-315b-4bcb-8c38-025608be9b97",
   "metadata": {},
   "outputs": [],
   "source": [
    "toto"
   ]
  },
  {
   "cell_type": "code",
   "execution_count": null,
   "id": "c7a71e96-26c4-4ed6-b820-ade88020a9e6",
   "metadata": {},
   "outputs": [],
   "source": [
    "toto.planet_model.subscriptions"
   ]
  },
  {
   "cell_type": "code",
   "execution_count": null,
   "id": "036dfc78-9467-4a0b-a1f1-f5c99a21e549",
   "metadata": {},
   "outputs": [],
   "source": [
    "any([\"Level2\" in p[\"plan\"][\"name\"] for p in toto.planet_model.subscriptions[\"nicfi\"]])"
   ]
  },
  {
   "cell_type": "code",
   "execution_count": null,
   "id": "e79b20fb-a341-421e-8191-44ebf2f87c7c",
   "metadata": {},
   "outputs": [],
   "source": [
    "toto.planet_model.session"
   ]
  },
  {
   "cell_type": "code",
   "execution_count": null,
   "id": "3b1dad89-5df1-417d-a6b6-0b861653f877",
   "metadata": {},
   "outputs": [],
   "source": []
  }
 ],
 "metadata": {
  "kernelspec": {
   "display_name": "Python 3",
   "language": "python",
   "name": "python3"
  },
  "language_info": {
   "codemirror_mode": {
    "name": "ipython",
    "version": 3
   },
   "file_extension": ".py",
   "mimetype": "text/x-python",
   "name": "python",
   "nbconvert_exporter": "python",
   "pygments_lexer": "ipython3",
   "version": "3.8.10"
  }
 },
 "nbformat": 4,
 "nbformat_minor": 5
}
