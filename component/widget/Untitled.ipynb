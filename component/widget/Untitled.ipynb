{
 "cells": [
  {
   "cell_type": "code",
   "execution_count": null,
   "id": "be508efc-6534-4642-abe5-8d7bd382d89f",
   "metadata": {},
   "outputs": [],
   "source": [
    "from pathlib import Path\n",
    "\n",
    "file = Path(\"/home/prambaud/test/Tinh_66_Huyen_652_2022-06-24.geojson\")\n",
    "file.is_file()"
   ]
  },
  {
   "cell_type": "code",
   "execution_count": null,
   "id": "e75c3145-f8de-4658-81fc-c6ba2f0d8a72",
   "metadata": {},
   "outputs": [],
   "source": [
    "import geopandas as gdp\n",
    "\n",
    "search = \"(\\d{4})-(0[1-9]|1[0-2])-(0[1-9]|[12][0-9]|3[01])\"\n",
    "year, month, day = (int(g) for g in re.search(search, file.stem).groups())\n",
    "date = datetime(year, month, day)\n",
    "gdf = gdp.read_file(file)\n",
    "gdf = gdf.set_crs(4326)\n",
    "\n",
    "# reorder the columns to make it compatible with the application\n",
    "gdf = gdf.filter(items=[\"geometry\", \"id\", \"areaHa\"])\n",
    "gdf = gdf.rename(columns={\"id\": \"label\", \"areaHa\": \"surface\"})\n",
    "gdf[\"alert\"] = 1\n",
    "gdf[\"date\"] = (float(date.strftime(\"%j\")) - 1) / 366 + float(date.strftime(\"%Y\"))\n",
    "gdf[\"nb_pixel\"] = (gdf[\"surface\"] * (10 ^ 4)) / (30 * 30)\n",
    "\n",
    "gdf"
   ]
  },
  {
   "cell_type": "code",
   "execution_count": null,
   "id": "5cecfb33-d7cd-47b9-9065-e5be16984d68",
   "metadata": {},
   "outputs": [],
   "source": [
    "gdf.plot()"
   ]
  },
  {
   "cell_type": "code",
   "execution_count": null,
   "id": "b5177295-9b9c-4798-8972-ef5a9cff12a9",
   "metadata": {},
   "outputs": [],
   "source": [
    "from datetime import datetime\n",
    "\n",
    "file.stem"
   ]
  },
  {
   "cell_type": "code",
   "execution_count": null,
   "id": "d401af81-b537-44f1-8ee0-deb4e2b05f4d",
   "metadata": {},
   "outputs": [],
   "source": [
    "import re\n",
    "\n",
    "search = \"(\\d{4})-(0[1-9]|1[0-2])-(0[1-9]|[12][0-9]|3[01])\"\n",
    "year, month, day = (int(g) for g in re.search(search, file.stem).groups())\n",
    "print(year, month, day)"
   ]
  },
  {
   "cell_type": "code",
   "execution_count": null,
   "id": "9ff9cab1-5125-4695-acbc-237d9eaf0746",
   "metadata": {},
   "outputs": [],
   "source": [
    "from datetime import datetime, date\n",
    "\n",
    "datetime(year, month, day)"
   ]
  },
  {
   "cell_type": "code",
   "execution_count": null,
   "id": "f7247ce3-978d-4bf4-9249-acfcbf9d7ecc",
   "metadata": {},
   "outputs": [],
   "source": [
    "dt = datetime.today()\n",
    "date = datetime(dt.year, dt.month, dt.day)\n",
    "date"
   ]
  },
  {
   "cell_type": "code",
   "execution_count": null,
   "id": "43c0e5a2-06a0-4fc6-a362-781b1903646c",
   "metadata": {},
   "outputs": [],
   "source": []
  },
  {
   "cell_type": "code",
   "execution_count": null,
   "id": "2216bea0-c733-4dca-a6bb-76deaa3c0601",
   "metadata": {},
   "outputs": [],
   "source": []
  }
 ],
 "metadata": {
  "kernelspec": {
   "display_name": "Python 3",
   "language": "python",
   "name": "python3"
  },
  "language_info": {
   "codemirror_mode": {
    "name": "ipython",
    "version": 3
   },
   "file_extension": ".py",
   "mimetype": "text/x-python",
   "name": "python",
   "nbconvert_exporter": "python",
   "pygments_lexer": "ipython3",
   "version": "3.8.10"
  }
 },
 "nbformat": 4,
 "nbformat_minor": 5
}
